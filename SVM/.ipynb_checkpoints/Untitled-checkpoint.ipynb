{
 "cells": [
  {
   "cell_type": "code",
   "execution_count": null,
   "id": "f0fe6d20",
   "metadata": {},
   "outputs": [],
   "source": [
    "import numpy as np\n",
    "import pandas as pd\n",
    "import matplotlib.pyplot as plt"
   ]
  },
  {
   "cell_type": "code",
   "execution_count": null,
   "id": "50ace200",
   "metadata": {},
   "outputs": [],
   "source": [
    "df_train = pd.read_csv(\"train.csv\")"
   ]
  },
  {
   "cell_type": "code",
   "execution_count": null,
   "id": "ab11b0fa",
   "metadata": {},
   "outputs": [],
   "source": [
    "df_train.head()\n"
   ]
  },
  {
   "cell_type": "code",
   "execution_count": null,
   "id": "34feb5c9",
   "metadata": {},
   "outputs": [],
   "source": [
    "df_test = pd.read_csv(\"test.csv\")\n",
    "df_test.head()"
   ]
  },
  {
   "cell_type": "code",
   "execution_count": null,
   "id": "e6c9be76",
   "metadata": {},
   "outputs": [],
   "source": [
    "# Extracting the labels for training the model\n",
    "\n",
    "features = df_train.iloc[:, 1:].values\n",
    "labels = df_train.iloc[:, 0].values\n",
    "\n",
    "test_features = df_test.values"
   ]
  },
  {
   "cell_type": "code",
   "execution_count": null,
   "id": "2a493bfe",
   "metadata": {},
   "outputs": [],
   "source": [
    "# Plotting the first five images of the training data\n",
    "\n",
    "for i in range(5):\n",
    "  image = features[i].reshape(28, 28)\n",
    "  plt.imshow(image)\n",
    "  plt.axis('off')\n",
    "  plt.show()"
   ]
  },
  {
   "cell_type": "code",
   "execution_count": null,
   "id": "690240a3",
   "metadata": {},
   "outputs": [],
   "source": [
    "class SVM_classifier:\n",
    "\n",
    "    def __init__(self, learning_rate, no_of_iterations, beta):\n",
    "\n",
    "        self.learning_rate = learning_rate\n",
    "        self.no_of_iterations = no_of_iterations\n",
    "        self.beta = beta\n",
    "\n",
    "    def fit(self, features, labels):\n",
    "\n",
    "        # Let m rows, n columns\n",
    "\n",
    "        self.m = len(features)\n",
    "        self.n = len(features[0])\n",
    "\n",
    "        # Weight and Bias values\n",
    "\n",
    "        self.w = np.zeros(self.n)\n",
    "        self.b = 0\n",
    "\n",
    "        self.features = features\n",
    "        self.labels = labels\n",
    "\n",
    "        # Gradient Descent Algorithm\n",
    "\n",
    "        for i in range(self.iterations):\n",
    "            self.update_weights()\n",
    " \n",
    "    def update_weights(self):\n",
    "\n",
    "        label = np.where(self.labels <= 0, -1, 1)\n",
    "\n",
    "        for index, sample in enumerate(self.features):\n",
    "\n",
    "            condition = label[index] * (np.dot(sample, self.w) - self.b) >= 1\n",
    "\n",
    "            if(condition == True):\n",
    "                dw = (2 * self.beta * self.w)\n",
    "                db = 0\n",
    "\n",
    "            else:\n",
    "                dw = (2 * self.beta * self.w) - (np.dot(sample, label[index]))\n",
    "                db = label[index]\n",
    "\n",
    "            self.w = self.w - self.learning_rate * dw\n",
    "            self.b = self.b - self.learning_rate * db\n",
    "\n",
    "\n",
    "    def predict(self, features):\n",
    "\n",
    "        output = (np.dot(features, self.w) - self.b)\n",
    "\n",
    "        predicted_label = np.sign(output)\n",
    "\n",
    "        pred_labels = np.where(predicted_label <= -1, 0, 1)\n",
    "        \n",
    "        return pred_labels\n"
   ]
  },
  {
   "cell_type": "code",
   "execution_count": null,
   "id": "7edc0d00",
   "metadata": {},
   "outputs": [],
   "source": [
    "svm = SVM_classifier(learning_rate = 0.3, no_of_iterations = 100, beta = 1)"
   ]
  },
  {
   "cell_type": "code",
   "execution_count": null,
   "id": "8269cf28",
   "metadata": {},
   "outputs": [],
   "source": [
    "svm.fit(features, labels)"
   ]
  },
  {
   "cell_type": "code",
   "execution_count": null,
   "id": "80c59507",
   "metadata": {},
   "outputs": [],
   "source": [
    "train_labels = svm.predict(features)"
   ]
  },
  {
   "cell_type": "code",
   "execution_count": null,
   "id": "c96f9edd",
   "metadata": {},
   "outputs": [],
   "source": [
    "accuracy = np.mean(train_labels == labels)\n",
    "\n",
    "print(\"Accuracy:\", accuracy)"
   ]
  },
  {
   "cell_type": "code",
   "execution_count": null,
   "id": "66df11aa",
   "metadata": {},
   "outputs": [],
   "source": [
    "# Lets Predict the labels for test features\n",
    "\n",
    "pred_labels = svm.predict(test_features)"
   ]
  },
  {
   "cell_type": "code",
   "execution_count": null,
   "id": "46beecc1",
   "metadata": {},
   "outputs": [],
   "source": [
    "np.savetxt(\"submission.csv\", np.column_stack((test_features, pred_labels)), delimiter=\",\", fmt='%i')\n",
    "\n",
    "output = pd.read_csv(\"submission.csv\")\n",
    "\n",
    "output.head()"
   ]
  }
 ],
 "metadata": {
  "kernelspec": {
   "display_name": "Python 3 (ipykernel)",
   "language": "python",
   "name": "python3"
  },
  "language_info": {
   "codemirror_mode": {
    "name": "ipython",
    "version": 3
   },
   "file_extension": ".py",
   "mimetype": "text/x-python",
   "name": "python",
   "nbconvert_exporter": "python",
   "pygments_lexer": "ipython3",
   "version": "3.9.12"
  }
 },
 "nbformat": 4,
 "nbformat_minor": 5
}
