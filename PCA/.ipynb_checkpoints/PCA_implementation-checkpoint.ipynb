{
 "cells": [
  {
   "cell_type": "code",
   "execution_count": null,
   "id": "fc5e4d04",
   "metadata": {},
   "outputs": [],
   "source": [
    "import numpy as np\n",
    "import pandas as pd\n",
    "import matplotlib.pyplot as plt"
   ]
  },
  {
   "cell_type": "code",
   "execution_count": null,
   "id": "2dea3179",
   "metadata": {},
   "outputs": [],
   "source": [
    "df_train = pd.read_csv(\"train.csv\")\n",
    "df_train.head()"
   ]
  },
  {
   "cell_type": "code",
   "execution_count": null,
   "id": "313aec6f",
   "metadata": {},
   "outputs": [],
   "source": [
    "df_test = pd.read_csv(\"test.csv\")\n",
    "df_test.head()"
   ]
  },
  {
   "cell_type": "code",
   "execution_count": null,
   "id": "a1063ba2",
   "metadata": {},
   "outputs": [],
   "source": [
    "# Lets Pre Process our data by removing insignificant Columns\n",
    "# These columns have no impact on the probability that a passenger has survived\n",
    "\n",
    "X_train = df_train.drop(['Survived', 'PassengerId', 'Name', 'Ticket', 'Cabin', 'Embarked'], axis=1)\n",
    "Y_train = df_train['Survived']\n",
    "X_test = df_test.drop(['PassengerId', 'Name', 'Ticket', 'Cabin', 'Embarked'], axis=1)"
   ]
  },
  {
   "cell_type": "code",
   "execution_count": null,
   "id": "8f55f746",
   "metadata": {},
   "outputs": [],
   "source": [
    "# Lets Convert Categorical Values Like Gender to Numerical Values\n",
    "# PCA works on Numnerical Values, not Categorical\n",
    "\n",
    "X_train = X_train.fillna(X_train.mean())\n",
    "X_test = X_test.fillna(X_test.mean())\n",
    "\n",
    "X_train = pd.get_dummies(X_train)\n",
    "X_test = pd.get_dummies(X_test)"
   ]
  },
  {
   "cell_type": "code",
   "execution_count": null,
   "id": "9f813fae",
   "metadata": {},
   "outputs": [],
   "source": [
    "X_train"
   ]
  },
  {
   "cell_type": "code",
   "execution_count": null,
   "id": "2d7941bc",
   "metadata": {},
   "outputs": [],
   "source": [
    "X_test"
   ]
  },
  {
   "cell_type": "code",
   "execution_count": null,
   "id": "03d3c69f",
   "metadata": {},
   "outputs": [],
   "source": [
    "class PCA_classifier:\n",
    "\n",
    "  def __init__(self, no_of_components):\n",
    "    \n",
    "    self.no_of_components = no_of_components\n",
    "    self.components = None\n",
    "    self.mean = None\n",
    "\n",
    "\n",
    "  def fit(self, X):\n",
    "    # mean centering\n",
    "    self.mean = np.mean(X, axis=0)\n",
    "    X = X - self.mean\n",
    "\n",
    "    # covariance\n",
    "    cov = np.cov(X.T)\n",
    "\n",
    "    # eigenvectors, eigen-values\n",
    "    eigenvectors, eigenvalues = np.linalg.eig(cov)\n",
    "\n",
    "    # eigenvectors v = [:, 1] column vector, transpose this for easier calculations\n",
    "    eigenvectors = eigenvectors.T\n",
    "\n",
    "    # sort eigenvectors\n",
    "    idxs = np.argsort(eigenvalues)[::-1]\n",
    "    eigenvalues = eigenvalues[idxs]\n",
    "    eigenvectors = eigenvectors[idxs]\n",
    "\n",
    "    self.components = eigenvectors[:self.no_of_components]\n",
    "\n",
    "\n",
    "  def transform(self, X):\n",
    "    X = X - self.mean\n",
    "\n",
    "    return np.dot(X, self.components.T)"
   ]
  },
  {
   "cell_type": "code",
   "execution_count": null,
   "id": "c686266f",
   "metadata": {},
   "outputs": [],
   "source": [
    "pca = PCA_classifier(no_of_components = 2)"
   ]
  },
  {
   "cell_type": "code",
   "execution_count": null,
   "id": "d8d6834d",
   "metadata": {},
   "outputs": [],
   "source": [
    "pca.fit(X_train)\n",
    "X_train_pca = pca.transform(X_train)\n",
    "X_test_pca = pca.transform(X_test)"
   ]
  },
  {
   "cell_type": "code",
   "execution_count": null,
   "id": "3e62b0bb",
   "metadata": {},
   "outputs": [],
   "source": [
    "plt.scatter(X_train_pca[:, 0], X_train_pca[:, 1], c = Y_train)\n",
    "plt.xlabel(\"PC 1\")\n",
    "plt.ylabel(\"PC 2\")\n",
    "plt.title(\"Transformed Training Data\")\n",
    "plt.show()"
   ]
  },
  {
   "cell_type": "code",
   "execution_count": null,
   "id": "ccf50eb8",
   "metadata": {},
   "outputs": [],
   "source": [
    "plt.scatter(X_test_pca[:, 0], X_test_pca[:, 1], c = 'red')\n",
    "plt.xlabel(\"PC 1\")\n",
    "plt.ylabel(\"PC 2\")\n",
    "plt.title(\"Transformed Test Data\")\n",
    "plt.show()"
   ]
  }
 ],
 "metadata": {
  "kernelspec": {
   "display_name": "Python 3 (ipykernel)",
   "language": "python",
   "name": "python3"
  },
  "language_info": {
   "codemirror_mode": {
    "name": "ipython",
    "version": 3
   },
   "file_extension": ".py",
   "mimetype": "text/x-python",
   "name": "python",
   "nbconvert_exporter": "python",
   "pygments_lexer": "ipython3",
   "version": "3.9.12"
  }
 },
 "nbformat": 4,
 "nbformat_minor": 5
}
